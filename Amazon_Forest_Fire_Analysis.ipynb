{
  "nbformat": 4,
  "nbformat_minor": 0,
  "metadata": {
    "colab": {
      "name": "Amazon_Forest_Fire_Analysis.ipynb",
      "provenance": [],
      "authorship_tag": "ABX9TyNIJBBJtPYYXRcBfWrRf71J",
      "include_colab_link": true
    },
    "kernelspec": {
      "name": "python3",
      "display_name": "Python 3"
    }
  },
  "cells": [
    {
      "cell_type": "markdown",
      "metadata": {
        "id": "view-in-github",
        "colab_type": "text"
      },
      "source": [
        "<a href=\"https://colab.research.google.com/github/tushar821999/Pandas_Library/blob/master/Amazon_Forest_Fire_Analysis.ipynb\" target=\"_parent\"><img src=\"https://colab.research.google.com/assets/colab-badge.svg\" alt=\"Open In Colab\"/></a>"
      ]
    },
    {
      "cell_type": "markdown",
      "metadata": {
        "id": "i8U_feGIor5u",
        "colab_type": "text"
      },
      "source": [
        "***Dataset*** used ['**Amazon**.csv'](https://storage.googleapis.com/kaggle-data-sets/316056/639173/bundle/archive.zip?GoogleAccessId=web-data@kaggle-161607.iam.gserviceaccount.com&Expires=1580045587&Signature=pXk7mhIoHHvwkqo4OjOjuE7kiSXXDGrAulzIHcmHOsO7w8YdcpSl6MK3dl8zwmzEC%2FV%2BC4MwSUyv9obP0Pd0KqHEH9SO3LPhAdj9B8g4aF1XmgyqIdF4Inj7izD49cYeaAHIrZ%2FIxcpl7Pz3MzxKPvq8DjxTPHYGsXO4ZvIQxhbhZ8X13u3PFU0psdX1Pi84jd8BPz4inXF%2BIooBzRbDVSZKNfn9cngWr0mfgJ%2BVJFPW1HOO2X4RuqUAHIJOdtYirKVVcP%2BBChWCbNl1PRx7o6kZXu1Wf0G%2FGpkczj%2FSuq8OQjlGRw2BCEo0vxmwaGcb4u2WOgsd9k457BRyV2in1w%3D%3D&response-content-disposition=attachment%3B+filename%3Dforest-fires-in-brazil.zip)"
      ]
    },
    {
      "cell_type": "markdown",
      "metadata": {
        "id": "nfcjIN8wpWmJ",
        "colab_type": "text"
      },
      "source": [
        "***ABOUT THE DATA*** :\n",
        "\n",
        "1. **Year** is the year when the forest fire happend;\n",
        "\n",
        "2. **State** is the Brazillian state\n",
        "\n",
        "3. **Month** is the month when the forest fire happend\n",
        "\n",
        "4. **Number** is the number of forest fires reported\n",
        "\n",
        "5. **Date** is the date when the forest fire was reported\n",
        "\n",
        "\n"
      ]
    },
    {
      "cell_type": "code",
      "metadata": {
        "id": "VANgUxQ0rCBZ",
        "colab_type": "code",
        "colab": {
          "base_uri": "https://localhost:8080/",
          "height": 265
        },
        "outputId": "a66ee8a7-2c46-4778-83bd-9586f36690a8"
      },
      "source": [
        "import pandas as pd\n",
        "df = pd.read_csv('/amazon.csv')\n",
        "print(df)"
      ],
      "execution_count": 5,
      "outputs": [
        {
          "output_type": "stream",
          "text": [
            "      year      state     month  number        date\n",
            "0     1998       Acre   Janeiro     0.0  1998-01-01\n",
            "1     1999       Acre   Janeiro     0.0  1999-01-01\n",
            "2     2000       Acre   Janeiro     0.0  2000-01-01\n",
            "3     2001       Acre   Janeiro     0.0  2001-01-01\n",
            "4     2002       Acre   Janeiro     0.0  2002-01-01\n",
            "...    ...        ...       ...     ...         ...\n",
            "6449  2012  Tocantins  Dezembro   128.0  2012-01-01\n",
            "6450  2013  Tocantins  Dezembro    85.0  2013-01-01\n",
            "6451  2014  Tocantins  Dezembro   223.0  2014-01-01\n",
            "6452  2015  Tocantins  Dezembro   373.0  2015-01-01\n",
            "6453  2016  Tocantins  Dezembro   119.0  2016-01-01\n",
            "\n",
            "[6454 rows x 5 columns]\n"
          ],
          "name": "stdout"
        }
      ]
    },
    {
      "cell_type": "markdown",
      "metadata": {
        "id": "s-2CC4knt5dW",
        "colab_type": "text"
      },
      "source": [
        "***PROBLEMS WITH THE DATASET***\n",
        "1. Numbers are in decimal. 2.588 doesn't make sense. That's because the decimal is how thousands are formatted. So, 2.588 means 2588 forest fires.\n",
        "2. Month column is in Portuguese Language\n",
        "3. When i imported the file for the first time i got an error : \"utf-8 codec can't decode byte in position : invalid continuation byte\". So, You can simple download the error free dataset from [here](https://drive.google.com/open?id=1YeK62eIi_nrYZYeZAthGhMibClVhlgWYmdOWqU7RNqM)."
      ]
    },
    {
      "cell_type": "markdown",
      "metadata": {
        "id": "cl9e9zOOviVC",
        "colab_type": "text"
      },
      "source": [
        "***INSTALL THE GOOGLETRANS LIBRARY***"
      ]
    },
    {
      "cell_type": "code",
      "metadata": {
        "id": "08AM58s4wUKF",
        "colab_type": "code",
        "colab": {
          "base_uri": "https://localhost:8080/",
          "height": 143
        },
        "outputId": "e8721d3a-5b6d-44b1-cc6f-19effff08f9a"
      },
      "source": [
        "# googletrans is not already installed \n",
        "# install googletrans by using pip\n",
        "pip install googletrans"
      ],
      "execution_count": 10,
      "outputs": [
        {
          "output_type": "stream",
          "text": [
            "Requirement already satisfied: googletrans in /usr/local/lib/python3.6/dist-packages (2.4.0)\n",
            "Requirement already satisfied: requests in /usr/local/lib/python3.6/dist-packages (from googletrans) (2.21.0)\n",
            "Requirement already satisfied: certifi>=2017.4.17 in /usr/local/lib/python3.6/dist-packages (from requests->googletrans) (2019.11.28)\n",
            "Requirement already satisfied: chardet<3.1.0,>=3.0.2 in /usr/local/lib/python3.6/dist-packages (from requests->googletrans) (3.0.4)\n",
            "Requirement already satisfied: urllib3<1.25,>=1.21.1 in /usr/local/lib/python3.6/dist-packages (from requests->googletrans) (1.24.3)\n",
            "Requirement already satisfied: idna<2.9,>=2.5 in /usr/local/lib/python3.6/dist-packages (from requests->googletrans) (2.8)\n"
          ],
          "name": "stdout"
        }
      ]
    },
    {
      "cell_type": "markdown",
      "metadata": {
        "id": "j1D6vs7ww3vE",
        "colab_type": "text"
      },
      "source": [
        "***IMPORT THE REQUIRED LIBRARIES***"
      ]
    },
    {
      "cell_type": "code",
      "metadata": {
        "id": "4vYBYaBNvgQi",
        "colab_type": "code",
        "colab": {}
      },
      "source": [
        "# pandas for data analysis\n",
        "import pandas as pd\n",
        "# googletrans for translate portuguese in english\n",
        "import googletrans\n",
        "# matplotlib for plotting the bar graph\n",
        "import matplotlib.pyplot as plt"
      ],
      "execution_count": 0,
      "outputs": []
    },
    {
      "cell_type": "markdown",
      "metadata": {
        "id": "DeowBQVLxRrz",
        "colab_type": "text"
      },
      "source": [
        "***NOW READ THE DATA***"
      ]
    },
    {
      "cell_type": "markdown",
      "metadata": {
        "id": "eSJaeoyMxiKg",
        "colab_type": "text"
      },
      "source": [
        "First problem of decimal number can be solved by using the thousands parameter of read_csv function."
      ]
    },
    {
      "cell_type": "code",
      "metadata": {
        "id": "g3OMYXyNxUrr",
        "colab_type": "code",
        "colab": {
          "base_uri": "https://localhost:8080/",
          "height": 532
        },
        "outputId": "4b23c4db-40d6-4738-c3ed-ee3364365c88"
      },
      "source": [
        "# read data and solving the first problem\n",
        "data = pd.read_csv('/amazon.csv',thousands='.')\n",
        "# print the no of rows and columns (rows*columns)\n",
        "print(\"\") #for NL\n",
        "print(data.shape)\n",
        "# print the first 5 records of dataset\n",
        "print(\"\") #for NL\n",
        "print(data.head(5))\n",
        "# print the description of the dataset\n",
        "print(\"\") #for NL\n",
        "print(data.describe(include='all'))\n",
        "# check for any missing values per column\n",
        "print(\"\") #for NL\n",
        "print(data.isna().sum())"
      ],
      "execution_count": 21,
      "outputs": [
        {
          "output_type": "stream",
          "text": [
            "\n",
            "(6454, 5)\n",
            "\n",
            "   year state    month  number        date\n",
            "0  1998  Acre  Janeiro       0  1998-01-01\n",
            "1  1999  Acre  Janeiro       0  1999-01-01\n",
            "2  2000  Acre  Janeiro       0  2000-01-01\n",
            "3  2001  Acre  Janeiro       0  2001-01-01\n",
            "4  2002  Acre  Janeiro       0  2002-01-01\n",
            "\n",
            "               year state    month        number        date\n",
            "count   6454.000000  6454     6454   6454.000000        6454\n",
            "unique          NaN    23       12           NaN          20\n",
            "top             NaN   Rio  Janeiro           NaN  2001-01-01\n",
            "freq            NaN   717      541           NaN         324\n",
            "mean    2007.461729   NaN      NaN    522.696312         NaN\n",
            "std        5.746654   NaN      NaN   1554.846486         NaN\n",
            "min     1998.000000   NaN      NaN      0.000000         NaN\n",
            "25%     2002.000000   NaN      NaN      9.000000         NaN\n",
            "50%     2007.000000   NaN      NaN     54.000000         NaN\n",
            "75%     2012.000000   NaN      NaN    269.000000         NaN\n",
            "max     2017.000000   NaN      NaN  25963.000000         NaN\n",
            "\n",
            "year      0\n",
            "state     0\n",
            "month     0\n",
            "number    0\n",
            "date      0\n",
            "dtype: int64\n"
          ],
          "name": "stdout"
        }
      ]
    }
  ]
}
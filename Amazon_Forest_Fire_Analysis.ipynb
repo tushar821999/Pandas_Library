{
  "nbformat": 4,
  "nbformat_minor": 0,
  "metadata": {
    "colab": {
      "name": "Amazon_Forest_Fire_Analysis.ipynb",
      "provenance": [],
      "authorship_tag": "ABX9TyOemvxL028IKNio4VQkW5hS",
      "include_colab_link": true
    },
    "kernelspec": {
      "name": "python3",
      "display_name": "Python 3"
    }
  },
  "cells": [
    {
      "cell_type": "markdown",
      "metadata": {
        "id": "view-in-github",
        "colab_type": "text"
      },
      "source": [
        "<a href=\"https://colab.research.google.com/github/tushar821999/Pandas_Library/blob/master/Amazon_Forest_Fire_Analysis.ipynb\" target=\"_parent\"><img src=\"https://colab.research.google.com/assets/colab-badge.svg\" alt=\"Open In Colab\"/></a>"
      ]
    },
    {
      "cell_type": "markdown",
      "metadata": {
        "id": "9Vd0kAZUzjfJ",
        "colab_type": "text"
      },
      "source": [
        "![Output Image](https://miro.medium.com/max/1578/1*tZFPeK5p6D_ns8Yhzz90tw.png)"
      ]
    },
    {
      "cell_type": "markdown",
      "metadata": {
        "id": "i8U_feGIor5u",
        "colab_type": "text"
      },
      "source": [
        "***Dataset*** used ['**Amazon**.csv'](https://storage.googleapis.com/kaggle-data-sets/316056/639173/bundle/archive.zip?GoogleAccessId=web-data@kaggle-161607.iam.gserviceaccount.com&Expires=1580045587&Signature=pXk7mhIoHHvwkqo4OjOjuE7kiSXXDGrAulzIHcmHOsO7w8YdcpSl6MK3dl8zwmzEC%2FV%2BC4MwSUyv9obP0Pd0KqHEH9SO3LPhAdj9B8g4aF1XmgyqIdF4Inj7izD49cYeaAHIrZ%2FIxcpl7Pz3MzxKPvq8DjxTPHYGsXO4ZvIQxhbhZ8X13u3PFU0psdX1Pi84jd8BPz4inXF%2BIooBzRbDVSZKNfn9cngWr0mfgJ%2BVJFPW1HOO2X4RuqUAHIJOdtYirKVVcP%2BBChWCbNl1PRx7o6kZXu1Wf0G%2FGpkczj%2FSuq8OQjlGRw2BCEo0vxmwaGcb4u2WOgsd9k457BRyV2in1w%3D%3D&response-content-disposition=attachment%3B+filename%3Dforest-fires-in-brazil.zip)"
      ]
    },
    {
      "cell_type": "markdown",
      "metadata": {
        "id": "nfcjIN8wpWmJ",
        "colab_type": "text"
      },
      "source": [
        "***ABOUT THE DATA*** :\n",
        "\n",
        "1. **Year** is the year when the forest fire happend;\n",
        "\n",
        "2. **State** is the Brazillian state\n",
        "\n",
        "3. **Month** is the month when the forest fire happend\n",
        "\n",
        "4. **Number** is the number of forest fires reported\n",
        "\n",
        "5. **Date** is the date when the forest fire was reported\n",
        "\n",
        "\n"
      ]
    },
    {
      "cell_type": "code",
      "metadata": {
        "id": "VANgUxQ0rCBZ",
        "colab_type": "code",
        "colab": {
          "base_uri": "https://localhost:8080/",
          "height": 265
        },
        "outputId": "a66ee8a7-2c46-4778-83bd-9586f36690a8"
      },
      "source": [
        "import pandas as pd\n",
        "df = pd.read_csv('/amazon.csv')\n",
        "print(df)"
      ],
      "execution_count": 5,
      "outputs": [
        {
          "output_type": "stream",
          "text": [
            "      year      state     month  number        date\n",
            "0     1998       Acre   Janeiro     0.0  1998-01-01\n",
            "1     1999       Acre   Janeiro     0.0  1999-01-01\n",
            "2     2000       Acre   Janeiro     0.0  2000-01-01\n",
            "3     2001       Acre   Janeiro     0.0  2001-01-01\n",
            "4     2002       Acre   Janeiro     0.0  2002-01-01\n",
            "...    ...        ...       ...     ...         ...\n",
            "6449  2012  Tocantins  Dezembro   128.0  2012-01-01\n",
            "6450  2013  Tocantins  Dezembro    85.0  2013-01-01\n",
            "6451  2014  Tocantins  Dezembro   223.0  2014-01-01\n",
            "6452  2015  Tocantins  Dezembro   373.0  2015-01-01\n",
            "6453  2016  Tocantins  Dezembro   119.0  2016-01-01\n",
            "\n",
            "[6454 rows x 5 columns]\n"
          ],
          "name": "stdout"
        }
      ]
    },
    {
      "cell_type": "markdown",
      "metadata": {
        "id": "s-2CC4knt5dW",
        "colab_type": "text"
      },
      "source": [
        "***PROBLEMS WITH THE DATASET***\n",
        "1. Numbers are in decimal. 2.588 doesn't make sense. That's because the decimal is how thousands are formatted. So, 2.588 means 2588 forest fires.\n",
        "2. Month column is in Portuguese Language\n",
        "3. When i imported the file for the first time i got an error : \"utf-8 codec can't decode byte in position : invalid continuation byte\". So, You can simple download the error free dataset from [here](https://drive.google.com/open?id=1YeK62eIi_nrYZYeZAthGhMibClVhlgWYmdOWqU7RNqM)."
      ]
    },
    {
      "cell_type": "markdown",
      "metadata": {
        "id": "cl9e9zOOviVC",
        "colab_type": "text"
      },
      "source": [
        "***INSTALL THE GOOGLETRANS LIBRARY***"
      ]
    },
    {
      "cell_type": "code",
      "metadata": {
        "id": "08AM58s4wUKF",
        "colab_type": "code",
        "colab": {
          "base_uri": "https://localhost:8080/",
          "height": 123
        },
        "outputId": "e8721d3a-5b6d-44b1-cc6f-19effff08f9a"
      },
      "source": [
        "# googletrans is not already installed \n",
        "# install googletrans by using pip\n",
        "pip install googletrans"
      ],
      "execution_count": 10,
      "outputs": [
        {
          "output_type": "stream",
          "text": [
            "Requirement already satisfied: googletrans in /usr/local/lib/python3.6/dist-packages (2.4.0)\n",
            "Requirement already satisfied: requests in /usr/local/lib/python3.6/dist-packages (from googletrans) (2.21.0)\n",
            "Requirement already satisfied: certifi>=2017.4.17 in /usr/local/lib/python3.6/dist-packages (from requests->googletrans) (2019.11.28)\n",
            "Requirement already satisfied: chardet<3.1.0,>=3.0.2 in /usr/local/lib/python3.6/dist-packages (from requests->googletrans) (3.0.4)\n",
            "Requirement already satisfied: urllib3<1.25,>=1.21.1 in /usr/local/lib/python3.6/dist-packages (from requests->googletrans) (1.24.3)\n",
            "Requirement already satisfied: idna<2.9,>=2.5 in /usr/local/lib/python3.6/dist-packages (from requests->googletrans) (2.8)\n"
          ],
          "name": "stdout"
        }
      ]
    },
    {
      "cell_type": "markdown",
      "metadata": {
        "id": "j1D6vs7ww3vE",
        "colab_type": "text"
      },
      "source": [
        "***IMPORT THE REQUIRED LIBRARIES***"
      ]
    },
    {
      "cell_type": "code",
      "metadata": {
        "id": "4vYBYaBNvgQi",
        "colab_type": "code",
        "colab": {}
      },
      "source": [
        "# pandas for data analysis\n",
        "import pandas as pd\n",
        "# googletrans for translate portuguese in english\n",
        "import googletrans\n",
        "# matplotlib for plotting the bar graph\n",
        "import matplotlib.pyplot as plt"
      ],
      "execution_count": 0,
      "outputs": []
    },
    {
      "cell_type": "markdown",
      "metadata": {
        "id": "DeowBQVLxRrz",
        "colab_type": "text"
      },
      "source": [
        "***NOW READ THE DATA***"
      ]
    },
    {
      "cell_type": "markdown",
      "metadata": {
        "id": "eSJaeoyMxiKg",
        "colab_type": "text"
      },
      "source": [
        "First problem of decimal number can be solved by using the thousands parameter of read_csv function."
      ]
    },
    {
      "cell_type": "code",
      "metadata": {
        "id": "g3OMYXyNxUrr",
        "colab_type": "code",
        "colab": {
          "base_uri": "https://localhost:8080/",
          "height": 532
        },
        "outputId": "4b23c4db-40d6-4738-c3ed-ee3364365c88"
      },
      "source": [
        "# read data and solving the first problem\n",
        "data = pd.read_csv('/amazon.csv',thousands='.')\n",
        "# print the no of rows and columns (rows*columns)\n",
        "print(\"\") #for NL\n",
        "print(data.shape)\n",
        "# print the first 5 records of dataset\n",
        "print(\"\") #for NL\n",
        "print(data.head(5))\n",
        "# print the description of the dataset\n",
        "print(\"\") #for NL\n",
        "print(data.describe(include='all'))\n",
        "# check for any missing values per column\n",
        "print(\"\") #for NL\n",
        "print(data.isna().sum())"
      ],
      "execution_count": 21,
      "outputs": [
        {
          "output_type": "stream",
          "text": [
            "\n",
            "(6454, 5)\n",
            "\n",
            "   year state    month  number        date\n",
            "0  1998  Acre  Janeiro       0  1998-01-01\n",
            "1  1999  Acre  Janeiro       0  1999-01-01\n",
            "2  2000  Acre  Janeiro       0  2000-01-01\n",
            "3  2001  Acre  Janeiro       0  2001-01-01\n",
            "4  2002  Acre  Janeiro       0  2002-01-01\n",
            "\n",
            "               year state    month        number        date\n",
            "count   6454.000000  6454     6454   6454.000000        6454\n",
            "unique          NaN    23       12           NaN          20\n",
            "top             NaN   Rio  Janeiro           NaN  2001-01-01\n",
            "freq            NaN   717      541           NaN         324\n",
            "mean    2007.461729   NaN      NaN    522.696312         NaN\n",
            "std        5.746654   NaN      NaN   1554.846486         NaN\n",
            "min     1998.000000   NaN      NaN      0.000000         NaN\n",
            "25%     2002.000000   NaN      NaN      9.000000         NaN\n",
            "50%     2007.000000   NaN      NaN     54.000000         NaN\n",
            "75%     2012.000000   NaN      NaN    269.000000         NaN\n",
            "max     2017.000000   NaN      NaN  25963.000000         NaN\n",
            "\n",
            "year      0\n",
            "state     0\n",
            "month     0\n",
            "number    0\n",
            "date      0\n",
            "dtype: int64\n"
          ],
          "name": "stdout"
        }
      ]
    },
    {
      "cell_type": "markdown",
      "metadata": {
        "id": "sOy0TI6V0mJy",
        "colab_type": "text"
      },
      "source": [
        "***CREATING SUBSET OF DATA***"
      ]
    },
    {
      "cell_type": "code",
      "metadata": {
        "id": "VQrVJYcJ0xWp",
        "colab_type": "code",
        "colab": {
          "base_uri": "https://localhost:8080/",
          "height": 265
        },
        "outputId": "c04aa45e-8e52-4bb4-f590-44deb82f58b2"
      },
      "source": [
        "# we sum all the number of forest fire from year 1998 to 2017\n",
        "# according to months\n",
        "forest_fire_per_month = data.groupby('month')['number'].sum()\n",
        "# print the subset\n",
        "print(forest_fire_per_month)"
      ],
      "execution_count": 25,
      "outputs": [
        {
          "output_type": "stream",
          "text": [
            "month\n",
            "Abril          28364\n",
            "Agosto        740841\n",
            "Dezembro      152596\n",
            "Fevereiro      30952\n",
            "Janeiro        52587\n",
            "Julho         217620\n",
            "Junho         111405\n",
            "Maio           46083\n",
            "Março          35118\n",
            "Novembro      312326\n",
            "Outubro       629665\n",
            "Setembro     1015925\n",
            "Name: number, dtype: int64\n"
          ],
          "name": "stdout"
        }
      ]
    },
    {
      "cell_type": "markdown",
      "metadata": {
        "id": "bef0euAF1p3D",
        "colab_type": "text"
      },
      "source": [
        "Now we notice the result is in alphabetical order. To get it back to the monthly order,we use the reindex property of dataframes"
      ]
    },
    {
      "cell_type": "code",
      "metadata": {
        "id": "i_HxpOQp1oxX",
        "colab_type": "code",
        "colab": {
          "base_uri": "https://localhost:8080/",
          "height": 265
        },
        "outputId": "81386748-5e15-4ac9-a73d-f3c085175d7a"
      },
      "source": [
        "# extract the unique month\n",
        "month_unique = list(data.month.unique())\n",
        "# reindex according to the unique month\n",
        "forest_fire_per_month = forest_fire_per_month.reindex(month_unique,axis=0)\n",
        "print(forest_fire_per_month)"
      ],
      "execution_count": 31,
      "outputs": [
        {
          "output_type": "stream",
          "text": [
            "month\n",
            "Janeiro        52587\n",
            "Fevereiro      30952\n",
            "Março          35118\n",
            "Abril          28364\n",
            "Maio           46083\n",
            "Junho         111405\n",
            "Julho         217620\n",
            "Agosto        740841\n",
            "Setembro     1015925\n",
            "Outubro       629665\n",
            "Novembro      312326\n",
            "Dezembro      152596\n",
            "Name: number, dtype: int64\n"
          ],
          "name": "stdout"
        }
      ]
    },
    {
      "cell_type": "markdown",
      "metadata": {
        "id": "WEHZHcJT3oxn",
        "colab_type": "text"
      },
      "source": [
        "Now we convert the series into a dataframe"
      ]
    },
    {
      "cell_type": "code",
      "metadata": {
        "id": "Gbz4zSTn3s0x",
        "colab_type": "code",
        "colab": {
          "base_uri": "https://localhost:8080/",
          "height": 247
        },
        "outputId": "dc117c17-43ad-4d0d-eaed-26fc6712ec8d"
      },
      "source": [
        "#forest_fire_per_month = forest_fire_per_month.to_frame()\n",
        "print(forest_fire_per_month.head(12))\n",
        "# Set a default index\n",
        "forest_fire_per_month.reset_index(level=0,inplace=True)"
      ],
      "execution_count": 41,
      "outputs": [
        {
          "output_type": "stream",
          "text": [
            "        month   number\n",
            "0     Janeiro    52587\n",
            "1   Fevereiro    30952\n",
            "2       Março    35118\n",
            "3       Abril    28364\n",
            "4        Maio    46083\n",
            "5       Junho   111405\n",
            "6       Julho   217620\n",
            "7      Agosto   740841\n",
            "8    Setembro  1015925\n",
            "9     Outubro   629665\n",
            "10   Novembro   312326\n",
            "11   Dezembro   152596\n"
          ],
          "name": "stdout"
        }
      ]
    },
    {
      "cell_type": "markdown",
      "metadata": {
        "id": "eW8xcHfT4mWl",
        "colab_type": "text"
      },
      "source": [
        "***Plot the graph***"
      ]
    },
    {
      "cell_type": "code",
      "metadata": {
        "id": "EPdfos0u5bK6",
        "colab_type": "code",
        "colab": {
          "base_uri": "https://localhost:8080/",
          "height": 685
        },
        "outputId": "eea8c962-e571-4639-b045-d674699289e0"
      },
      "source": [
        "#specify width and height\n",
        "plt.figure(figsize=(13,10))\n",
        "#plt.bar(x-value,y-value)\n",
        "plt.bar(forest_fire_per_month['month'],forest_fire_per_month['number'],color=(0.5,0.1,0.5,0.6))\n",
        "\n",
        "# basic details for bar graphs\n",
        "plt.suptitle('Amazon Forest Fires Over the Months Analysis By Tushar',fontsize=10)\n",
        "plt.title('Using Data from Years 1998-2017', fontsize=20)\n",
        "plt.xlabel('Month',fontsize=20)\n",
        "plt.ylabel('Number of Forest Fires', fontsize=20)\n",
        "\n",
        "# indicating the value of each bar in bar graph\n",
        "for i,num in enumerate(forest_fire_per_month['number']):\n",
        "  plt.text(i,num+10000,num,ha='center',fontsize=12)"
      ],
      "execution_count": 57,
      "outputs": [
        {
          "output_type": "display_data",
          "data": {
            "image/png": "[encoded data removed]",
            "text/plain": [
              "<Figure size 936x720 with 1 Axes>"
            ]
          },
          "metadata": {
            "tags": []
          }
        }
      ]
    }
  ]
}
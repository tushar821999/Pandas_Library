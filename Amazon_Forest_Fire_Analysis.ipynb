{
  "nbformat": 4,
  "nbformat_minor": 0,
  "metadata": {
    "colab": {
      "name": "Amazon_Forest_Fire_Analysis.ipynb",
      "provenance": [],
      "authorship_tag": "ABX9TyNjqGOI08UAbZ4zkiAVLdxF",
      "include_colab_link": true
    },
    "kernelspec": {
      "name": "python3",
      "display_name": "Python 3"
    }
  },
  "cells": [
    {
      "cell_type": "markdown",
      "metadata": {
        "id": "view-in-github",
        "colab_type": "text"
      },
      "source": [
        "<a href=\"https://colab.research.google.com/github/tushar821999/Pandas_Library/blob/master/Amazon_Forest_Fire_Analysis.ipynb\" target=\"_parent\"><img src=\"https://colab.research.google.com/assets/colab-badge.svg\" alt=\"Open In Colab\"/></a>"
      ]
    },
    {
      "cell_type": "markdown",
      "metadata": {
        "id": "i8U_feGIor5u",
        "colab_type": "text"
      },
      "source": [
        "***Dataset*** used ['**Amazon**.csv'](https://storage.googleapis.com/kaggle-data-sets/316056/639173/bundle/archive.zip?GoogleAccessId=web-data@kaggle-161607.iam.gserviceaccount.com&Expires=1580045587&Signature=pXk7mhIoHHvwkqo4OjOjuE7kiSXXDGrAulzIHcmHOsO7w8YdcpSl6MK3dl8zwmzEC%2FV%2BC4MwSUyv9obP0Pd0KqHEH9SO3LPhAdj9B8g4aF1XmgyqIdF4Inj7izD49cYeaAHIrZ%2FIxcpl7Pz3MzxKPvq8DjxTPHYGsXO4ZvIQxhbhZ8X13u3PFU0psdX1Pi84jd8BPz4inXF%2BIooBzRbDVSZKNfn9cngWr0mfgJ%2BVJFPW1HOO2X4RuqUAHIJOdtYirKVVcP%2BBChWCbNl1PRx7o6kZXu1Wf0G%2FGpkczj%2FSuq8OQjlGRw2BCEo0vxmwaGcb4u2WOgsd9k457BRyV2in1w%3D%3D&response-content-disposition=attachment%3B+filename%3Dforest-fires-in-brazil.zip)"
      ]
    },
    {
      "cell_type": "markdown",
      "metadata": {
        "id": "nfcjIN8wpWmJ",
        "colab_type": "text"
      },
      "source": [
        "***ABOUT THE DATA*** :\n",
        "\n",
        "1. **Year** is the year when the forest fire happend;\n",
        "\n",
        "2. **State** is the Brazillian state\n",
        "\n",
        "3. **Month** is the month when the forest fire happend\n",
        "\n",
        "4. **Number** is the number of forest fires reported\n",
        "\n",
        "5. **Date** is the date when the forest fire was reported\n",
        "\n",
        "\n"
      ]
    },
    {
      "cell_type": "code",
      "metadata": {
        "id": "VANgUxQ0rCBZ",
        "colab_type": "code",
        "colab": {
          "base_uri": "https://localhost:8080/",
          "height": 265
        },
        "outputId": "a66ee8a7-2c46-4778-83bd-9586f36690a8"
      },
      "source": [
        "import pandas as pd\n",
        "df = pd.read_csv('/amazon.csv')\n",
        "print(df)"
      ],
      "execution_count": 5,
      "outputs": [
        {
          "output_type": "stream",
          "text": [
            "      year      state     month  number        date\n",
            "0     1998       Acre   Janeiro     0.0  1998-01-01\n",
            "1     1999       Acre   Janeiro     0.0  1999-01-01\n",
            "2     2000       Acre   Janeiro     0.0  2000-01-01\n",
            "3     2001       Acre   Janeiro     0.0  2001-01-01\n",
            "4     2002       Acre   Janeiro     0.0  2002-01-01\n",
            "...    ...        ...       ...     ...         ...\n",
            "6449  2012  Tocantins  Dezembro   128.0  2012-01-01\n",
            "6450  2013  Tocantins  Dezembro    85.0  2013-01-01\n",
            "6451  2014  Tocantins  Dezembro   223.0  2014-01-01\n",
            "6452  2015  Tocantins  Dezembro   373.0  2015-01-01\n",
            "6453  2016  Tocantins  Dezembro   119.0  2016-01-01\n",
            "\n",
            "[6454 rows x 5 columns]\n"
          ],
          "name": "stdout"
        }
      ]
    },
    {
      "cell_type": "markdown",
      "metadata": {
        "id": "s-2CC4knt5dW",
        "colab_type": "text"
      },
      "source": [
        "***PROBLEMS WITH THE DATASET***\n",
        "1. Numbers are in decimal. 2.588 doesn't make sense. That's because the decimal is how thousands are formatted. So, 2.588 means 2588 forest fires.\n",
        "2. Month column is in Portuguese Language\n",
        "3. When i imported the file for the first time i got an error : \"utf-8 codec can't decode byte in position : invalid continuation byte\". So, You can simple download the error free dataset from [here](https://drive.google.com/open?id=1YeK62eIi_nrYZYeZAthGhMibClVhlgWYmdOWqU7RNqM)."
      ]
    },
    {
      "cell_type": "markdown",
      "metadata": {
        "id": "cl9e9zOOviVC",
        "colab_type": "text"
      },
      "source": [
        "***INSTALL THE GOOGLETRANS LIBRARY***"
      ]
    },
    {
      "cell_type": "code",
      "metadata": {
        "id": "08AM58s4wUKF",
        "colab_type": "code",
        "colab": {
          "base_uri": "https://localhost:8080/",
          "height": 143
        },
        "outputId": "e8721d3a-5b6d-44b1-cc6f-19effff08f9a"
      },
      "source": [
        "# googletrans is not already installed \n",
        "# install googletrans by using pip\n",
        "pip install googletrans"
      ],
      "execution_count": 10,
      "outputs": [
        {
          "output_type": "stream",
          "text": [
            "Requirement already satisfied: googletrans in /usr/local/lib/python3.6/dist-packages (2.4.0)\n",
            "Requirement already satisfied: requests in /usr/local/lib/python3.6/dist-packages (from googletrans) (2.21.0)\n",
            "Requirement already satisfied: certifi>=2017.4.17 in /usr/local/lib/python3.6/dist-packages (from requests->googletrans) (2019.11.28)\n",
            "Requirement already satisfied: chardet<3.1.0,>=3.0.2 in /usr/local/lib/python3.6/dist-packages (from requests->googletrans) (3.0.4)\n",
            "Requirement already satisfied: urllib3<1.25,>=1.21.1 in /usr/local/lib/python3.6/dist-packages (from requests->googletrans) (1.24.3)\n",
            "Requirement already satisfied: idna<2.9,>=2.5 in /usr/local/lib/python3.6/dist-packages (from requests->googletrans) (2.8)\n"
          ],
          "name": "stdout"
        }
      ]
    },
    {
      "cell_type": "markdown",
      "metadata": {
        "id": "j1D6vs7ww3vE",
        "colab_type": "text"
      },
      "source": [
        "***IMPORT THE REQUIRED LIBRARIES***"
      ]
    },
    {
      "cell_type": "code",
      "metadata": {
        "id": "4vYBYaBNvgQi",
        "colab_type": "code",
        "colab": {}
      },
      "source": [
        "# pandas for data analysis\n",
        "import pandas as pd\n",
        "# googletrans for translate portuguese in english\n",
        "import googletrans\n",
        "# matplotlib for plotting the bar graph\n",
        "import matplotlib.pyplot as plt"
      ],
      "execution_count": 0,
      "outputs": []
    }
  ]
}
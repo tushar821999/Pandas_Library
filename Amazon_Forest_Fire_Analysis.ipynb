{
  "nbformat": 4,
  "nbformat_minor": 0,
  "metadata": {
    "colab": {
      "name": "Amazon_Forest_Fire_Analysis.ipynb",
      "provenance": [],
      "authorship_tag": "ABX9TyMkv1ARUXsOYRuODXuU6f16",
      "include_colab_link": true
    },
    "kernelspec": {
      "name": "python3",
      "display_name": "Python 3"
    }
  },
  "cells": [
    {
      "cell_type": "markdown",
      "metadata": {
        "id": "view-in-github",
        "colab_type": "text"
      },
      "source": [
        "<a href=\"https://colab.research.google.com/github/tushar821999/Pandas_Library/blob/master/Amazon_Forest_Fire_Analysis.ipynb\" target=\"_parent\"><img src=\"https://colab.research.google.com/assets/colab-badge.svg\" alt=\"Open In Colab\"/></a>"
      ]
    },
    {
      "cell_type": "markdown",
      "metadata": {
        "id": "i8U_feGIor5u",
        "colab_type": "text"
      },
      "source": [
        "***Dataset*** used ['**Amazon**.csv'](https://storage.googleapis.com/kaggle-data-sets/316056/639173/bundle/archive.zip?GoogleAccessId=web-data@kaggle-161607.iam.gserviceaccount.com&Expires=1580045587&Signature=pXk7mhIoHHvwkqo4OjOjuE7kiSXXDGrAulzIHcmHOsO7w8YdcpSl6MK3dl8zwmzEC%2FV%2BC4MwSUyv9obP0Pd0KqHEH9SO3LPhAdj9B8g4aF1XmgyqIdF4Inj7izD49cYeaAHIrZ%2FIxcpl7Pz3MzxKPvq8DjxTPHYGsXO4ZvIQxhbhZ8X13u3PFU0psdX1Pi84jd8BPz4inXF%2BIooBzRbDVSZKNfn9cngWr0mfgJ%2BVJFPW1HOO2X4RuqUAHIJOdtYirKVVcP%2BBChWCbNl1PRx7o6kZXu1Wf0G%2FGpkczj%2FSuq8OQjlGRw2BCEo0vxmwaGcb4u2WOgsd9k457BRyV2in1w%3D%3D&response-content-disposition=attachment%3B+filename%3Dforest-fires-in-brazil.zip)"
      ]
    },
    {
      "cell_type": "markdown",
      "metadata": {
        "id": "nfcjIN8wpWmJ",
        "colab_type": "text"
      },
      "source": [
        "***ABOUT THE DATA*** :\n",
        "\n",
        "1. **Year** is the year when the forest fire happend;\n",
        "\n",
        "2. **State** is the Brazillian state\n",
        "\n",
        "3. **Month** is the month when the forest fire happend\n",
        "\n",
        "4. **Number** is the number of forest fires reported\n",
        "\n",
        "5. **Date** is the date when the forest fire was reported\n",
        "\n",
        "\n"
      ]
    }
  ]
}
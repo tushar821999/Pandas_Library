{
  "nbformat": 4,
  "nbformat_minor": 0,
  "metadata": {
    "colab": {
      "name": "Cloud_SLA_Voilation_Analysis.ipynb",
      "provenance": [],
      "include_colab_link": true
    },
    "kernelspec": {
      "name": "python3",
      "display_name": "Python 3"
    }
  },
  "cells": [
    {
      "cell_type": "markdown",
      "metadata": {
        "id": "view-in-github",
        "colab_type": "text"
      },
      "source": [
        "<a href=\"https://colab.research.google.com/github/tushar821999/Pandas_Library/blob/master/Cloud_SLA_Voilation_Analysis.ipynb\" target=\"_parent\"><img src=\"https://colab.research.google.com/assets/colab-badge.svg\" alt=\"Open In Colab\"/></a>"
      ]
    },
    {
      "cell_type": "markdown",
      "metadata": {
        "id": "JOdcInj06wtw",
        "colab_type": "text"
      },
      "source": [
        "***DataSet Used***\n",
        "\n",
        "Active Link : [cloud_server_dataset](https://github.com/tushar821999/Pandas_Library/blob/master/Data%20Set/cloud_server.csv) "
      ]
    },
    {
      "cell_type": "code",
      "metadata": {
        "id": "MG_m5yGunnHk",
        "colab_type": "code",
        "outputId": "184710c8-3345-4446-e41e-c5b8bba9703f",
        "colab": {
          "base_uri": "https://localhost:8080/",
          "height": 245
        }
      },
      "source": [
        "import pandas as pd\n",
        "df = pd.read_csv('/content/cloud_server.csv')\n",
        "print(df)"
      ],
      "execution_count": 0,
      "outputs": [
        {
          "output_type": "stream",
          "text": [
            "     Date_Stamp Time_Stamp Server_Alpha_Status  Server_Numerical_Status\n",
            "0    2019-12-13    1:10:14           server up                        1\n",
            "1    2019-12-13    1:10:14           server up                        1\n",
            "2    2019-12-13    1:10:15           server up                        1\n",
            "3    2019-12-13    1:10:15           server up                        1\n",
            "4    2019-12-13    1:10:16           server up                        1\n",
            "..          ...        ...                 ...                      ...\n",
            "728  2019-12-14   12:33:35           server up                        1\n",
            "729  2019-12-14   12:33:36           server up                        1\n",
            "730  2019-12-14   12:33:36           server up                        1\n",
            "731  2019-12-14   12:33:37           server up                        1\n",
            "732  2019-12-14   12:33:38           server up                        1\n",
            "\n",
            "[733 rows x 4 columns]\n"
          ],
          "name": "stdout"
        }
      ]
    },
    {
      "cell_type": "code",
      "metadata": {
        "id": "hqgWemllovSm",
        "colab_type": "code",
        "outputId": "5517969f-8280-482a-f429-d058259c8bc7",
        "colab": {
          "base_uri": "https://localhost:8080/",
          "height": 82
        }
      },
      "source": [
        "import matplotlib.pyplot as plt\n",
        "server_status = df.groupby('Server_Alpha_Status')['Server_Numerical_Status'].count()\n",
        "print(server_status)"
      ],
      "execution_count": 0,
      "outputs": [
        {
          "output_type": "stream",
          "text": [
            "Server_Alpha_Status\n",
            "server down    585\n",
            "server up      148\n",
            "Name: Server_Numerical_Status, dtype: int64\n"
          ],
          "name": "stdout"
        }
      ]
    },
    {
      "cell_type": "code",
      "metadata": {
        "id": "lazaFJLGv4eU",
        "colab_type": "code",
        "outputId": "ad68b3d5-2f87-4282-b861-fc46ebfb6e8b",
        "colab": {
          "base_uri": "https://localhost:8080/",
          "height": 82
        }
      },
      "source": [
        "server_status_unique = list(df.Server_Alpha_Status.unique())\n",
        "server_status = server_status.reindex(server_status_unique,axis=0)\n",
        "print(server_status)"
      ],
      "execution_count": 0,
      "outputs": [
        {
          "output_type": "stream",
          "text": [
            "Server_Alpha_Status\n",
            "server up      148\n",
            "server down    585\n",
            "Name: Server_Numerical_Status, dtype: int64\n"
          ],
          "name": "stdout"
        }
      ]
    },
    {
      "cell_type": "code",
      "metadata": {
        "id": "MEZ6vSn6wl87",
        "colab_type": "code",
        "outputId": "14af2b86-ffdf-4160-82f8-c2f4b0b7d4cb",
        "colab": {
          "base_uri": "https://localhost:8080/",
          "height": 82
        }
      },
      "source": [
        "server_status = server_status.to_frame()\n",
        "print(server_status.head(12))\n",
        "server_status.reset_index(level=0,inplace=True)"
      ],
      "execution_count": 0,
      "outputs": [
        {
          "output_type": "stream",
          "text": [
            "                     Server_Numerical_Status\n",
            "Server_Alpha_Status                         \n",
            "server up                                148\n",
            "server down                              585\n"
          ],
          "name": "stdout"
        }
      ]
    },
    {
      "cell_type": "code",
      "metadata": {
        "id": "8utb8SV6uG5C",
        "colab_type": "code",
        "outputId": "510300e6-f919-4415-9d5b-3b15a60b6440",
        "colab": {
          "base_uri": "https://localhost:8080/",
          "height": 686
        }
      },
      "source": [
        "plt.figure(figsize=(13,10))\n",
        "plt.bar(server_status['Server_Alpha_Status'],server_status['Server_Numerical_Status'],color=(0.5,0.1,0.5,0.6))\n",
        "plt.suptitle('Cloud Up Time / Down Time Analysis',fontsize=10)\n",
        "plt.title('Using Data from 13 DEC 2019 to 14 DEC 2019 (734 Rows | 4 Cols)',fontsize=20)\n",
        "plt.xlabel('Server Status',fontsize=20)\n",
        "plt.ylabel('Server Status Time In Seconds',fontsize=20)\n",
        "\n",
        "for i,num in enumerate(server_status['Server_Numerical_Status']):\n",
        "  plt.text(i,num,num,ha='center',fontsize=12)"
      ],
      "execution_count": 0,
      "outputs": [
        {
          "output_type": "display_data",
          "data": {
            "image/png": "[encoded data removed]",
            "text/plain": [
              "<Figure size 936x720 with 1 Axes>"
            ]
          },
          "metadata": {
            "tags": []
          }
        }
      ]
    }
  ]
}
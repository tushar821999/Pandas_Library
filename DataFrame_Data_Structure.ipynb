{
  "nbformat": 4,
  "nbformat_minor": 0,
  "metadata": {
    "colab": {
      "name": "DataFrame_Data_Structure.ipynb",
      "provenance": [],
      "authorship_tag": "ABX9TyNh7yGJOQAAM1kw97YUwX6I",
      "include_colab_link": true
    },
    "kernelspec": {
      "name": "python3",
      "display_name": "Python 3"
    }
  },
  "cells": [
    {
      "cell_type": "markdown",
      "metadata": {
        "id": "view-in-github",
        "colab_type": "text"
      },
      "source": [
        "<a href=\"https://colab.research.google.com/github/tushar821999/Pandas_Library/blob/master/DataFrame_Data_Structure.ipynb\" target=\"_parent\"><img src=\"https://colab.research.google.com/assets/colab-badge.svg\" alt=\"Open In Colab\"/></a>"
      ]
    },
    {
      "cell_type": "markdown",
      "metadata": {
        "id": "SJtolC3HUfQ2",
        "colab_type": "text"
      },
      "source": [
        "DataFrame : It is a table. It has rows and columns. Each column in a DataFrame is a series object, rows consist of element inside Series. It can be constructed using built-in Python dicts."
      ]
    },
    {
      "cell_type": "code",
      "metadata": {
        "id": "wMbUUafGU2wn",
        "colab_type": "code",
        "colab": {}
      },
      "source": [
        "# import pandas library as pd\n",
        "import pandas as pd"
      ],
      "execution_count": 0,
      "outputs": []
    },
    {
      "cell_type": "markdown",
      "metadata": {
        "id": "EoydpDkNVulE",
        "colab_type": "text"
      },
      "source": [
        "Let's create a simple DataFrame"
      ]
    },
    {
      "cell_type": "code",
      "metadata": {
        "id": "SnxPyCV8Vz98",
        "colab_type": "code",
        "colab": {
          "base_uri": "https://localhost:8080/",
          "height": 105
        },
        "outputId": "af8de1fb-4103-49a1-febe-0d730504cfdb"
      },
      "source": [
        "# Create DataFrame \n",
        "demo_df = pd.DataFrame({\n",
        "    'country':['Russia','India','Japan','China'],\n",
        "    'population':[17.04,143.5,9.5,203.52],\n",
        "    'square' : [2724902,17155191,12653456,78956542]\n",
        "})\n",
        "# print the basic DataFrame\n",
        "print(demo_df)"
      ],
      "execution_count": 4,
      "outputs": [
        {
          "output_type": "stream",
          "text": [
            "  country  population    square\n",
            "0  Russia       17.04   2724902\n",
            "1   India      143.50  17155191\n",
            "2   Japan        9.50  12653456\n",
            "3   China      203.52  78956542\n"
          ],
          "name": "stdout"
        }
      ]
    },
    {
      "cell_type": "markdown",
      "metadata": {
        "id": "QWuHdD8uWpo2",
        "colab_type": "text"
      },
      "source": [
        "In order to make sure that each column is a Series object Let's do this"
      ]
    },
    {
      "cell_type": "code",
      "metadata": {
        "id": "J1nelq_wWxo1",
        "colab_type": "code",
        "colab": {
          "base_uri": "https://localhost:8080/",
          "height": 283
        },
        "outputId": "485f646c-be5d-4775-d12e-9cb8f8f6a75c"
      },
      "source": [
        "print(demo_df['country'])\n",
        "print(demo_df['population'])\n",
        "print(demo_df['square'])"
      ],
      "execution_count": 7,
      "outputs": [
        {
          "output_type": "stream",
          "text": [
            "0    Russia\n",
            "1     India\n",
            "2     Japan\n",
            "3     China\n",
            "Name: country, dtype: object\n",
            "0     17.04\n",
            "1    143.50\n",
            "2      9.50\n",
            "3    203.52\n",
            "Name: population, dtype: float64\n",
            "0     2724902\n",
            "1    17155191\n",
            "2    12653456\n",
            "3    78956542\n",
            "Name: square, dtype: int64\n"
          ],
          "name": "stdout"
        }
      ]
    },
    {
      "cell_type": "markdown",
      "metadata": {
        "id": "A9LO3HbzXJ1N",
        "colab_type": "text"
      },
      "source": [
        "DataFrame object has 2 indexes: column index and row index. If you do not provide row index explicitly, pandas will create RangeIndex from 0 to N-1, where N is a number of rows inside DataFrame."
      ]
    },
    {
      "cell_type": "code",
      "metadata": {
        "id": "125yVRoIXZ57",
        "colab_type": "code",
        "colab": {
          "base_uri": "https://localhost:8080/",
          "height": 52
        },
        "outputId": "8ecf8bf4-5442-48f2-8e5b-9939c79eac8b"
      },
      "source": [
        "# print the column index\n",
        "print(demo_df.columns)\n",
        "# print the row index\n",
        "print(demo_df.index)"
      ],
      "execution_count": 11,
      "outputs": [
        {
          "output_type": "stream",
          "text": [
            "Index(['country', 'population', 'square'], dtype='object')\n",
            "RangeIndex(start=0, stop=4, step=1)\n"
          ],
          "name": "stdout"
        }
      ]
    }
  ]
}
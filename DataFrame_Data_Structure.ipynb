{
  "nbformat": 4,
  "nbformat_minor": 0,
  "metadata": {
    "colab": {
      "name": "DataFrame_Data_Structure.ipynb",
      "provenance": [],
      "authorship_tag": "ABX9TyML4DMp35m2Hf6PRkg4MozD",
      "include_colab_link": true
    },
    "kernelspec": {
      "name": "python3",
      "display_name": "Python 3"
    }
  },
  "cells": [
    {
      "cell_type": "markdown",
      "metadata": {
        "id": "view-in-github",
        "colab_type": "text"
      },
      "source": [
        "<a href=\"https://colab.research.google.com/github/tushar821999/Pandas_Library/blob/master/DataFrame_Data_Structure.ipynb\" target=\"_parent\"><img src=\"https://colab.research.google.com/assets/colab-badge.svg\" alt=\"Open In Colab\"/></a>"
      ]
    },
    {
      "cell_type": "markdown",
      "metadata": {
        "id": "SJtolC3HUfQ2",
        "colab_type": "text"
      },
      "source": [
        "DataFrame : It is a table. It has rows and columns. Each column is a DataFrame is a series object, rows consist of element inside Series. It can be constructed using built-in Python dicts."
      ]
    },
    {
      "cell_type": "code",
      "metadata": {
        "id": "wMbUUafGU2wn",
        "colab_type": "code",
        "colab": {}
      },
      "source": [
        ""
      ],
      "execution_count": 0,
      "outputs": []
    }
  ]
}
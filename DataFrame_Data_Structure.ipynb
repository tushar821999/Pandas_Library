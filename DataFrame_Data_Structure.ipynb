{
  "nbformat": 4,
  "nbformat_minor": 0,
  "metadata": {
    "colab": {
      "name": "DataFrame_Data_Structure.ipynb",
      "provenance": [],
      "toc_visible": true,
      "authorship_tag": "ABX9TyOqjnrt35lDa58G9+Ksn02G",
      "include_colab_link": true
    },
    "kernelspec": {
      "name": "python3",
      "display_name": "Python 3"
    }
  },
  "cells": [
    {
      "cell_type": "markdown",
      "metadata": {
        "id": "view-in-github",
        "colab_type": "text"
      },
      "source": [
        "<a href=\"https://colab.research.google.com/github/tushar821999/Pandas_Library/blob/master/DataFrame_Data_Structure.ipynb\" target=\"_parent\"><img src=\"https://colab.research.google.com/assets/colab-badge.svg\" alt=\"Open In Colab\"/></a>"
      ]
    },
    {
      "cell_type": "markdown",
      "metadata": {
        "id": "SJtolC3HUfQ2",
        "colab_type": "text"
      },
      "source": [
        "DataFrame : It is a table. It has rows and columns. Each column in a DataFrame is a series object, rows consist of element inside Series. It can be constructed using built-in Python dicts."
      ]
    },
    {
      "cell_type": "code",
      "metadata": {
        "id": "wMbUUafGU2wn",
        "colab_type": "code",
        "colab": {}
      },
      "source": [
        "# import pandas library as pd\n",
        "import pandas as pd"
      ],
      "execution_count": 0,
      "outputs": []
    },
    {
      "cell_type": "markdown",
      "metadata": {
        "id": "EoydpDkNVulE",
        "colab_type": "text"
      },
      "source": [
        "Let's create a simple DataFrame"
      ]
    },
    {
      "cell_type": "code",
      "metadata": {
        "id": "SnxPyCV8Vz98",
        "colab_type": "code",
        "outputId": "0a3e7fe1-08ae-4219-92d4-38a0ba15e707",
        "colab": {
          "base_uri": "https://localhost:8080/",
          "height": 105
        }
      },
      "source": [
        "# Create DataFrame \n",
        "demo_df = pd.DataFrame({\n",
        "    'country':['Russia','India','Japan','China'],\n",
        "    'population':[17.04,143.5,9.5,203.52],\n",
        "    'square' : [2724902,17155191,12653456,78956542]\n",
        "})\n",
        "# print the basic DataFrame\n",
        "print(demo_df)"
      ],
      "execution_count": 3,
      "outputs": [
        {
          "output_type": "stream",
          "text": [
            "  country  population    square\n",
            "0  Russia       17.04   2724902\n",
            "1   India      143.50  17155191\n",
            "2   Japan        9.50  12653456\n",
            "3   China      203.52  78956542\n"
          ],
          "name": "stdout"
        }
      ]
    },
    {
      "cell_type": "markdown",
      "metadata": {
        "id": "QWuHdD8uWpo2",
        "colab_type": "text"
      },
      "source": [
        "In order to make sure that each column is a Series object Let's do this"
      ]
    },
    {
      "cell_type": "code",
      "metadata": {
        "id": "J1nelq_wWxo1",
        "colab_type": "code",
        "outputId": "5c1968c6-d2cb-4a41-e912-6dc497b90487",
        "colab": {
          "base_uri": "https://localhost:8080/",
          "height": 283
        }
      },
      "source": [
        "print(demo_df['country'])\n",
        "print(demo_df['population'])\n",
        "print(demo_df['square'])"
      ],
      "execution_count": 4,
      "outputs": [
        {
          "output_type": "stream",
          "text": [
            "0    Russia\n",
            "1     India\n",
            "2     Japan\n",
            "3     China\n",
            "Name: country, dtype: object\n",
            "0     17.04\n",
            "1    143.50\n",
            "2      9.50\n",
            "3    203.52\n",
            "Name: population, dtype: float64\n",
            "0     2724902\n",
            "1    17155191\n",
            "2    12653456\n",
            "3    78956542\n",
            "Name: square, dtype: int64\n"
          ],
          "name": "stdout"
        }
      ]
    },
    {
      "cell_type": "markdown",
      "metadata": {
        "id": "A9LO3HbzXJ1N",
        "colab_type": "text"
      },
      "source": [
        "DataFrame object has 2 indexes: column index and row index. If you do not provide row index explicitly, pandas will create RangeIndex from 0 to N-1, where N is a number of rows inside DataFrame."
      ]
    },
    {
      "cell_type": "code",
      "metadata": {
        "id": "125yVRoIXZ57",
        "colab_type": "code",
        "outputId": "097d2ce9-f699-4795-c16b-b7b7185d25d2",
        "colab": {
          "base_uri": "https://localhost:8080/",
          "height": 52
        }
      },
      "source": [
        "# print the column index\n",
        "print(demo_df.columns)\n",
        "# print the row index\n",
        "print(demo_df.index)"
      ],
      "execution_count": 5,
      "outputs": [
        {
          "output_type": "stream",
          "text": [
            "Index(['country', 'population', 'square'], dtype='object')\n",
            "RangeIndex(start=0, stop=4, step=1)\n"
          ],
          "name": "stdout"
        }
      ]
    },
    {
      "cell_type": "markdown",
      "metadata": {
        "id": "cltyBhZcZmm1",
        "colab_type": "text"
      },
      "source": [
        "There are numerous ways to provide row index explicitly, for example you can provide index when creating a DataFrame or do it \"on the fly\" during runtime."
      ]
    },
    {
      "cell_type": "code",
      "metadata": {
        "id": "lVRts4iaZ4Lm",
        "colab_type": "code",
        "outputId": "b43e7e15-6624-4cf9-bd2c-d09506205170",
        "colab": {
          "base_uri": "https://localhost:8080/",
          "height": 212
        }
      },
      "source": [
        "# Assign index when creating a DataFrame\n",
        "demo_df2 = pd.DataFrame({\n",
        "    'country' : ['Kazakhstan','Russia','Belarus','Ukarine'],\n",
        "    'currency' : ['KZT','RUB','BYN','UAH'],\n",
        "    'population' : [17.04,143.5,9.5,45.5]\n",
        "}, index = ['KZ','RU','BY','UA'])\n",
        "print(demo_df2)\n",
        "\n",
        "# Assign index on the fly\n",
        "demo_df2.index = ['KZ','RU','BY','UA']\n",
        "demo_df2.index.name = 'Country Code'\n",
        "print(demo_df2)"
      ],
      "execution_count": 6,
      "outputs": [
        {
          "output_type": "stream",
          "text": [
            "       country currency  population\n",
            "KZ  Kazakhstan      KZT       17.04\n",
            "RU      Russia      RUB      143.50\n",
            "BY     Belarus      BYN        9.50\n",
            "UA     Ukarine      UAH       45.50\n",
            "                 country currency  population\n",
            "Country Code                                 \n",
            "KZ            Kazakhstan      KZT       17.04\n",
            "RU                Russia      RUB      143.50\n",
            "BY               Belarus      BYN        9.50\n",
            "UA               Ukarine      UAH       45.50\n"
          ],
          "name": "stdout"
        }
      ]
    },
    {
      "cell_type": "markdown",
      "metadata": {
        "id": "NGCKMwZccbPx",
        "colab_type": "text"
      },
      "source": [
        "Series object will also have the same index as DataFrame has"
      ]
    },
    {
      "cell_type": "code",
      "metadata": {
        "id": "MsQN5xtzcl43",
        "colab_type": "code",
        "outputId": "088f4c25-e5ac-4753-eb45-f5a8f23ffaee",
        "colab": {
          "base_uri": "https://localhost:8080/",
          "height": 336
        }
      },
      "source": [
        "print(demo_df2['country'])\n",
        "print(demo_df2['currency'])\n",
        "print(demo_df2['population'])"
      ],
      "execution_count": 7,
      "outputs": [
        {
          "output_type": "stream",
          "text": [
            "Country Code\n",
            "KZ    Kazakhstan\n",
            "RU        Russia\n",
            "BY       Belarus\n",
            "UA       Ukarine\n",
            "Name: country, dtype: object\n",
            "Country Code\n",
            "KZ    KZT\n",
            "RU    RUB\n",
            "BY    BYN\n",
            "UA    UAH\n",
            "Name: currency, dtype: object\n",
            "Country Code\n",
            "KZ     17.04\n",
            "RU    143.50\n",
            "BY      9.50\n",
            "UA     45.50\n",
            "Name: population, dtype: float64\n"
          ],
          "name": "stdout"
        }
      ]
    },
    {
      "cell_type": "markdown",
      "metadata": {
        "id": "mrQa9QfAc52Y",
        "colab_type": "text"
      },
      "source": [
        "Row access using index can be performed in serveral ways. Using .loc (providing index label) and .iloc(providing index number)"
      ]
    },
    {
      "cell_type": "code",
      "metadata": {
        "id": "gQgYY6YCdKjL",
        "colab_type": "code",
        "outputId": "6657c70e-c3ac-4416-80f8-c8af8deea7b7",
        "colab": {
          "base_uri": "https://localhost:8080/",
          "height": 176
        }
      },
      "source": [
        "# using .loc\n",
        "print(demo_df2.loc['RU'])\n",
        "print(\" \") #used for new line in output\n",
        "# using .iloc\n",
        "print(demo_df2.iloc[1])"
      ],
      "execution_count": 8,
      "outputs": [
        {
          "output_type": "stream",
          "text": [
            "country       Russia\n",
            "currency         RUB\n",
            "population     143.5\n",
            "Name: RU, dtype: object\n",
            " \n",
            "country       Russia\n",
            "currency         RUB\n",
            "population     143.5\n",
            "Name: RU, dtype: object\n"
          ],
          "name": "stdout"
        }
      ]
    },
    {
      "cell_type": "markdown",
      "metadata": {
        "id": "5in4WOTDd7gY",
        "colab_type": "text"
      },
      "source": [
        "Selection of particular rows and columns can be performed tthis way"
      ]
    },
    {
      "cell_type": "code",
      "metadata": {
        "id": "qpQj-GB5eACB",
        "colab_type": "code",
        "outputId": "62944f80-03e1-4587-8ea1-8d401ec9f3a9",
        "colab": {
          "base_uri": "https://localhost:8080/",
          "height": 87
        }
      },
      "source": [
        "# select currency column\n",
        "print(demo_df2.loc[['KZ','RU'],'currency'])"
      ],
      "execution_count": 9,
      "outputs": [
        {
          "output_type": "stream",
          "text": [
            "Country Code\n",
            "KZ    KZT\n",
            "RU    RUB\n",
            "Name: currency, dtype: object\n"
          ],
          "name": "stdout"
        }
      ]
    },
    {
      "cell_type": "markdown",
      "metadata": {
        "id": "irKgJELUfiwL",
        "colab_type": "text"
      },
      "source": [
        ".loc takes 2 arguments: index list and column list, slicing operation is supported as well"
      ]
    },
    {
      "cell_type": "code",
      "metadata": {
        "id": "RciDTG2of8BY",
        "colab_type": "code",
        "colab": {
          "base_uri": "https://localhost:8080/",
          "height": 194
        },
        "outputId": "ba8ef23f-dc79-4db8-f2a1-c6bd4e9c4065"
      },
      "source": [
        "# print the rows from Russia to Ukarine\n",
        "print(demo_df2.loc['RU':'UA',:])\n",
        "# print the rows from Russia to Ukarine and Columns from Currency to Popularion\n",
        "print(demo_df2.loc['RU':'UA','currency':'population'])"
      ],
      "execution_count": 17,
      "outputs": [
        {
          "output_type": "stream",
          "text": [
            "              country currency  population\n",
            "Country Code                              \n",
            "RU             Russia      RUB       143.5\n",
            "BY            Belarus      BYN         9.5\n",
            "UA            Ukarine      UAH        45.5\n",
            "             currency  population\n",
            "Country Code                     \n",
            "RU                RUB       143.5\n",
            "BY                BYN         9.5\n",
            "UA                UAH        45.5\n"
          ],
          "name": "stdout"
        }
      ]
    },
    {
      "cell_type": "markdown",
      "metadata": {
        "id": "r_gvsIP2Eeqv",
        "colab_type": "text"
      },
      "source": [
        "Filtering is performed using so-called Boolean arrays"
      ]
    },
    {
      "cell_type": "code",
      "metadata": {
        "id": "MInrlcHJEj__",
        "colab_type": "code",
        "colab": {
          "base_uri": "https://localhost:8080/",
          "height": 105
        },
        "outputId": "7e3b6f95-dbc9-43dc-9880-40976c576076"
      },
      "source": [
        "print(demo_df2[demo_df2.population>10][['country','currency']])"
      ],
      "execution_count": 19,
      "outputs": [
        {
          "output_type": "stream",
          "text": [
            "                 country currency\n",
            "Country Code                     \n",
            "KZ            Kazakhstan      KZT\n",
            "RU                Russia      RUB\n",
            "UA               Ukarine      UAH\n"
          ],
          "name": "stdout"
        }
      ]
    },
    {
      "cell_type": "markdown",
      "metadata": {
        "id": "NI86PgudFdtx",
        "colab_type": "text"
      },
      "source": [
        "Now if you want to reset index of the DataFrame use .reset_index()"
      ]
    },
    {
      "cell_type": "code",
      "metadata": {
        "id": "248Au4OkFm2H",
        "colab_type": "code",
        "colab": {
          "base_uri": "https://localhost:8080/",
          "height": 105
        },
        "outputId": "b4546c92-c1c4-47d8-d6d7-74aaa0e69de1"
      },
      "source": [
        "demo_df.reset_index()\n",
        "print(demo_df)"
      ],
      "execution_count": 22,
      "outputs": [
        {
          "output_type": "stream",
          "text": [
            "  country  population    square\n",
            "0  Russia       17.04   2724902\n",
            "1   India      143.50  17155191\n",
            "2   Japan        9.50  12653456\n",
            "3   China      203.52  78956542\n"
          ],
          "name": "stdout"
        }
      ]
    },
    {
      "cell_type": "markdown",
      "metadata": {
        "id": "bqPf5kGJF-Yv",
        "colab_type": "text"
      },
      "source": [
        "Let's add new column in DataFrame"
      ]
    },
    {
      "cell_type": "code",
      "metadata": {
        "id": "AOQjrMmLGCNU",
        "colab_type": "code",
        "colab": {
          "base_uri": "https://localhost:8080/",
          "height": 105
        },
        "outputId": "97d96d24-78a8-421e-838f-2789a4dad30f"
      },
      "source": [
        "# In this we use demo_df instead of demo_df2\n",
        "demo_df['density'] = demo_df['population']/demo_df['square']*1000000\n",
        "print(demo_df)"
      ],
      "execution_count": 41,
      "outputs": [
        {
          "output_type": "stream",
          "text": [
            "  country  population    square   density\n",
            "0  Russia       17.04   2724902  6.253436\n",
            "1   India      143.50  17155191  8.364815\n",
            "2   Japan        9.50  12653456  0.750783\n",
            "3   China      203.52  78956542  2.577620\n"
          ],
          "name": "stdout"
        }
      ]
    },
    {
      "cell_type": "markdown",
      "metadata": {
        "id": "MKOj_bakHZKw",
        "colab_type": "text"
      },
      "source": [
        "Let's delete the density column"
      ]
    },
    {
      "cell_type": "code",
      "metadata": {
        "id": "mSGiruk7HdEu",
        "colab_type": "code",
        "colab": {
          "base_uri": "https://localhost:8080/",
          "height": 194
        },
        "outputId": "1c917a32-3392-4abe-d0aa-f469f88a97bc"
      },
      "source": [
        "# delete by using drop\n",
        "demo_df.drop(['density'],axis='columns')\n",
        "print(demo_df)\n",
        "\n",
        "# delete by using del\n",
        "del demo_df['density']\n",
        "print(demo_df)"
      ],
      "execution_count": 44,
      "outputs": [
        {
          "output_type": "stream",
          "text": [
            "  country  population    square   density\n",
            "0  Russia       17.04   2724902  6.253436\n",
            "1   India      143.50  17155191  8.364815\n",
            "2   Japan        9.50  12653456  0.750783\n",
            "3   China      203.52  78956542  2.577620\n",
            "  country  population    square\n",
            "0  Russia       17.04   2724902\n",
            "1   India      143.50  17155191\n",
            "2   Japan        9.50  12653456\n",
            "3   China      203.52  78956542\n"
          ],
          "name": "stdout"
        }
      ]
    },
    {
      "cell_type": "markdown",
      "metadata": {
        "id": "lhZu-SMCIHYg",
        "colab_type": "text"
      },
      "source": [
        "Rename the column names"
      ]
    },
    {
      "cell_type": "code",
      "metadata": {
        "id": "hBpzfpPJIvfV",
        "colab_type": "code",
        "colab": {
          "base_uri": "https://localhost:8080/",
          "height": 105
        },
        "outputId": "10f99be1-7154-4cc7-fd76-f2b0d4cb5312"
      },
      "source": [
        "demo_df = demo_df.rename(columns={'population':'pop_in_milions'})\n",
        "print(demo_df)"
      ],
      "execution_count": 46,
      "outputs": [
        {
          "output_type": "stream",
          "text": [
            "  country  pop_in_milions    square\n",
            "0  Russia           17.04   2724902\n",
            "1   India          143.50  17155191\n",
            "2   Japan            9.50  12653456\n",
            "3   China          203.52  78956542\n"
          ],
          "name": "stdout"
        }
      ]
    }
  ]
}
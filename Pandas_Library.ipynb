{
  "nbformat": 4,
  "nbformat_minor": 0,
  "metadata": {
    "colab": {
      "name": "Pandas_Library.ipynb",
      "provenance": [],
      "authorship_tag": "ABX9TyOu9T/j0L7i/yBMw8FCk6EQ",
      "include_colab_link": true
    },
    "kernelspec": {
      "name": "python3",
      "display_name": "Python 3"
    }
  },
  "cells": [
    {
      "cell_type": "markdown",
      "metadata": {
        "id": "view-in-github",
        "colab_type": "text"
      },
      "source": [
        "<a href=\"https://colab.research.google.com/github/tushar821999/Pandas_Library/blob/master/Pandas_Library.ipynb\" target=\"_parent\"><img src=\"https://colab.research.google.com/assets/colab-badge.svg\" alt=\"Open In Colab\"/></a>"
      ]
    },
    {
      "cell_type": "markdown",
      "metadata": {
        "id": "jN6uG47hcU_-",
        "colab_type": "text"
      },
      "source": [
        "Pandas : It is the most popular library for data analysis in Python programming language. It has eloquent syntax and rich functionality."
      ]
    },
    {
      "cell_type": "markdown",
      "metadata": {
        "id": "1sOag0Edc9Ke",
        "colab_type": "text"
      },
      "source": [
        "DataFrame and Series : These are two main data structures which is used by pandas library"
      ]
    },
    {
      "cell_type": "markdown",
      "metadata": {
        "id": "DqwL0-uwdUK9",
        "colab_type": "text"
      },
      "source": [
        "Series : It is an object which is similar to Python list data structure but differs from it because it has associated label with each element or so-called index."
      ]
    },
    {
      "cell_type": "code",
      "metadata": {
        "id": "b-5moagib3_9",
        "colab_type": "code",
        "colab": {
          "base_uri": "https://localhost:8080/",
          "height": 141
        },
        "outputId": "fd732959-9afa-43e9-d4a7-ed4fab276196"
      },
      "source": [
        "# import pandas library as pd \n",
        "import pandas as pd\n",
        "\n",
        "demo_series = pd.Series([2,0,3,1,3,1])\n",
        "print(demo_series)"
      ],
      "execution_count": 1,
      "outputs": [
        {
          "output_type": "stream",
          "text": [
            "0    2\n",
            "1    0\n",
            "2    3\n",
            "3    1\n",
            "4    3\n",
            "5    1\n",
            "dtype: int64\n"
          ],
          "name": "stdout"
        }
      ]
    }
  ]
}
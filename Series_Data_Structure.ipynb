{
  "nbformat": 4,
  "nbformat_minor": 0,
  "metadata": {
    "colab": {
      "name": "Pandas_Library.ipynb",
      "provenance": [],
      "collapsed_sections": [],
      "authorship_tag": "ABX9TyOlHbH/kBL7gkJGd1VdVrT1",
      "include_colab_link": true
    },
    "kernelspec": {
      "name": "python3",
      "display_name": "Python 3"
    }
  },
  "cells": [
    {
      "cell_type": "markdown",
      "metadata": {
        "id": "view-in-github",
        "colab_type": "text"
      },
      "source": [
        "<a href=\"https://colab.research.google.com/github/tushar821999/Pandas_Library/blob/master/Series_Data_Structure.ipynb\" target=\"_parent\"><img src=\"https://colab.research.google.com/assets/colab-badge.svg\" alt=\"Open In Colab\"/></a>"
      ]
    },
    {
      "cell_type": "markdown",
      "metadata": {
        "id": "jN6uG47hcU_-",
        "colab_type": "text"
      },
      "source": [
        "Pandas : It is the most popular library for data analysis in Python programming language. It has eloquent syntax and rich functionality."
      ]
    },
    {
      "cell_type": "markdown",
      "metadata": {
        "id": "1sOag0Edc9Ke",
        "colab_type": "text"
      },
      "source": [
        "DataFrame and Series : These are two main data structures which is used by pandas library"
      ]
    },
    {
      "cell_type": "markdown",
      "metadata": {
        "id": "DqwL0-uwdUK9",
        "colab_type": "text"
      },
      "source": [
        "Series : It is an object which is similar to Python list data structure but differs from it because it has associated label with each element or so-called index."
      ]
    },
    {
      "cell_type": "code",
      "metadata": {
        "id": "b-5moagib3_9",
        "colab_type": "code",
        "colab": {
          "base_uri": "https://localhost:8080/",
          "height": 141
        },
        "outputId": "a06e519c-543a-4f7b-b429-923297636403"
      },
      "source": [
        "# import pandas library as pd \n",
        "import pandas as pd\n",
        "\n",
        "demo_series = pd.Series([2,0,3,1,3,1])\n",
        "print(demo_series)"
      ],
      "execution_count": 4,
      "outputs": [
        {
          "output_type": "stream",
          "text": [
            "0    2\n",
            "1    0\n",
            "2    3\n",
            "3    1\n",
            "4    3\n",
            "5    1\n",
            "dtype: int64\n"
          ],
          "name": "stdout"
        }
      ]
    },
    {
      "cell_type": "markdown",
      "metadata": {
        "id": "ZFwBPH4ZemrG",
        "colab_type": "text"
      },
      "source": [
        "Take a look at the output and you will see that index is leftward and values are to the right. If index is not defined explicitly, then pandas creates RangeIndex starting from 0 to N-1, Where N is the total number of element. Moreover, each sereis has data type(dtype), in our case dtype is int64.\n"
      ]
    },
    {
      "cell_type": "code",
      "metadata": {
        "id": "vdjye19bfojP",
        "colab_type": "code",
        "colab": {
          "base_uri": "https://localhost:8080/",
          "height": 52
        },
        "outputId": "45ec6985-9df4-4320-8649-fcefc48f0e60"
      },
      "source": [
        "# check starting and ending index of the series\n",
        "print(demo_series.index)\n",
        "\n",
        "# check values of the element and datatype(dtype) of the series\n",
        "print(demo_series.values)"
      ],
      "execution_count": 3,
      "outputs": [
        {
          "output_type": "stream",
          "text": [
            "RangeIndex(start=0, stop=6, step=1)\n",
            "[2 0 3 1 3 1]\n"
          ],
          "name": "stdout"
        }
      ]
    },
    {
      "cell_type": "code",
      "metadata": {
        "id": "bl-5Kl8kgJYu",
        "colab_type": "code",
        "colab": {
          "base_uri": "https://localhost:8080/",
          "height": 70
        },
        "outputId": "f48caf3a-eec3-4616-f1b8-c50a882d0916"
      },
      "source": [
        "# Retrive element by their index number\n",
        "print(demo_series[2]) # output: 3\n",
        "print(demo_series[0]) # output : 2\n",
        "print(demo_series[5]) # output : 5\n",
        "\n"
      ],
      "execution_count": 8,
      "outputs": [
        {
          "output_type": "stream",
          "text": [
            "3\n",
            "2\n",
            "1\n"
          ],
          "name": "stdout"
        }
      ]
    },
    {
      "cell_type": "markdown",
      "metadata": {
        "id": "bnJLKsfxgsTh",
        "colab_type": "text"
      },
      "source": [
        "Retrive element by their index number doesn't works with negative index"
      ]
    },
    {
      "cell_type": "code",
      "metadata": {
        "id": "no44ndoE_9RH",
        "colab_type": "code",
        "colab": {
          "base_uri": "https://localhost:8080/",
          "height": 123
        },
        "outputId": "8f8e99d5-cb3e-4763-9d4e-db4e698f6c5c"
      },
      "source": [
        "# You can also provide index (labels) explicitly\n",
        "demo_series2 = pd.Series([9,9,1,7,0,],index=['a','b','c','d','e'])\n",
        "print(demo_series2)"
      ],
      "execution_count": 5,
      "outputs": [
        {
          "output_type": "stream",
          "text": [
            "a    9\n",
            "b    9\n",
            "c    1\n",
            "d    7\n",
            "e    0\n",
            "dtype: int64\n"
          ],
          "name": "stdout"
        }
      ]
    },
    {
      "cell_type": "markdown",
      "metadata": {
        "id": "ewg7IoUCAsNR",
        "colab_type": "text"
      },
      "source": [
        "Now we will get element value by their custom index "
      ]
    },
    {
      "cell_type": "code",
      "metadata": {
        "id": "1tdwIhVxA1Ei",
        "colab_type": "code",
        "colab": {
          "base_uri": "https://localhost:8080/",
          "height": 52
        },
        "outputId": "08a097a8-aba7-48d2-92dd-24124e76cee1"
      },
      "source": [
        "# Acess Element by using custom indexes\n",
        "print(demo_series2['b'])\n",
        "print(demo_series2['d'])"
      ],
      "execution_count": 7,
      "outputs": [
        {
          "output_type": "stream",
          "text": [
            "9\n",
            "7\n"
          ],
          "name": "stdout"
        }
      ]
    },
    {
      "cell_type": "code",
      "metadata": {
        "id": "qtBgCqsSBHZB",
        "colab_type": "code",
        "colab": {
          "base_uri": "https://localhost:8080/",
          "height": 87
        },
        "outputId": "65b18b1c-af40-4eec-abbc-c19fb9acddb2"
      },
      "source": [
        "# Retrive several elements by their indexes\n",
        "print(demo_series2[['a','d','e']])"
      ],
      "execution_count": 8,
      "outputs": [
        {
          "output_type": "stream",
          "text": [
            "a    9\n",
            "d    7\n",
            "e    0\n",
            "dtype: int64\n"
          ],
          "name": "stdout"
        }
      ]
    },
    {
      "cell_type": "markdown",
      "metadata": {
        "id": "cFTWB2BMBedj",
        "colab_type": "text"
      },
      "source": [
        "We can also make a group assignments"
      ]
    },
    {
      "cell_type": "code",
      "metadata": {
        "id": "FKMOMd_pBo8Z",
        "colab_type": "code",
        "colab": {
          "base_uri": "https://localhost:8080/",
          "height": 123
        },
        "outputId": "5dbebc26-18ac-4b00-f461-8d56d45c7200"
      },
      "source": [
        "# Group Assignment\n",
        "demo_series2[['a','b','c']] = 9\n",
        "print(demo_series2)"
      ],
      "execution_count": 11,
      "outputs": [
        {
          "output_type": "stream",
          "text": [
            "a    9\n",
            "b    9\n",
            "c    9\n",
            "d    7\n",
            "e    0\n",
            "dtype: int64\n"
          ],
          "name": "stdout"
        }
      ]
    },
    {
      "cell_type": "markdown",
      "metadata": {
        "id": "GSXP9qhqCZ-E",
        "colab_type": "text"
      },
      "source": [
        "Have a look on filtering and math operation"
      ]
    },
    {
      "cell_type": "code",
      "metadata": {
        "id": "q0Pk5RC3CfRz",
        "colab_type": "code",
        "colab": {
          "base_uri": "https://localhost:8080/",
          "height": 194
        },
        "outputId": "5f07e676-e7ba-405f-b4d9-362f099f6be4"
      },
      "source": [
        "# filtering operation in Series\n",
        "print(demo_series2[demo_series2 > 5])\n",
        "\n",
        "# math operation in Series\n",
        "print(demo_series2[demo_series2>5]*2)"
      ],
      "execution_count": 15,
      "outputs": [
        {
          "output_type": "stream",
          "text": [
            "a    9\n",
            "b    9\n",
            "c    9\n",
            "d    7\n",
            "dtype: int64\n",
            "a    18\n",
            "b    18\n",
            "c    18\n",
            "d    14\n",
            "dtype: int64\n"
          ],
          "name": "stdout"
        }
      ]
    },
    {
      "cell_type": "markdown",
      "metadata": {
        "id": "GMkB1MJvQIEp",
        "colab_type": "text"
      },
      "source": [
        "Series is very similar to dictionary, where key is an index and value is an element, we can do this"
      ]
    },
    {
      "cell_type": "code",
      "metadata": {
        "id": "4nvT_7lkQRlI",
        "colab_type": "code",
        "colab": {
          "base_uri": "https://localhost:8080/",
          "height": 105
        },
        "outputId": "067a45e6-2c01-4d0a-98b0-ea5e6daa5ca8"
      },
      "source": [
        "# creating Series using key value pair like as dictionary in python\n",
        "demo_series3 = pd.Series({'a':5,'b':6,'c':7,'d':8})\n",
        "print(demo_series3)"
      ],
      "execution_count": 17,
      "outputs": [
        {
          "output_type": "stream",
          "text": [
            "a    5\n",
            "b    6\n",
            "c    7\n",
            "d    8\n",
            "dtype: int64\n"
          ],
          "name": "stdout"
        }
      ]
    },
    {
      "cell_type": "markdown",
      "metadata": {
        "id": "cB76PweiQntc",
        "colab_type": "text"
      },
      "source": [
        "Check index is exists in Sereis or not by using 'in' operator "
      ]
    },
    {
      "cell_type": "code",
      "metadata": {
        "id": "_bPuf5PEQzuF",
        "colab_type": "code",
        "colab": {
          "base_uri": "https://localhost:8080/",
          "height": 34
        },
        "outputId": "5293733d-481c-4370-d55a-d8d4e6a14c1d"
      },
      "source": [
        "# use of 'in' operator to check index is exists in the series or not\n",
        "print('b' in demo_series3)"
      ],
      "execution_count": 19,
      "outputs": [
        {
          "output_type": "stream",
          "text": [
            "True\n"
          ],
          "name": "stdout"
        }
      ]
    },
    {
      "cell_type": "markdown",
      "metadata": {
        "id": "8jje78veRFxw",
        "colab_type": "text"
      },
      "source": [
        "Series object and its index have name attributes, so you can label them"
      ]
    },
    {
      "cell_type": "code",
      "metadata": {
        "id": "il2m8YwMRMX_",
        "colab_type": "code",
        "colab": {
          "base_uri": "https://localhost:8080/",
          "height": 123
        },
        "outputId": "137ba413-190f-4231-885b-c0713b735e32"
      },
      "source": [
        "# name the whole series\n",
        "demo_series3.name = \"numbers\"\n",
        "# name the index column of the series\n",
        "demo_series3.index.name = \"letters\"\n",
        "\n",
        "print(demo_series3)"
      ],
      "execution_count": 23,
      "outputs": [
        {
          "output_type": "stream",
          "text": [
            "letters\n",
            "a    5\n",
            "b    6\n",
            "c    7\n",
            "d    8\n",
            "Name: numbers, dtype: int64\n"
          ],
          "name": "stdout"
        }
      ]
    },
    {
      "cell_type": "markdown",
      "metadata": {
        "id": "PNtF2WYuSWqB",
        "colab_type": "text"
      },
      "source": [
        "Index can be changed on fly . But bear in mind that the length of the list should be equal to the number of elements inside Series and also labels have to be unique."
      ]
    },
    {
      "cell_type": "code",
      "metadata": {
        "id": "2sfy394RSasr",
        "colab_type": "code",
        "colab": {
          "base_uri": "https://localhost:8080/",
          "height": 105
        },
        "outputId": "1613788c-00a9-4449-f442-049c9c90a479"
      },
      "source": [
        "# we can change the index name at any time\n",
        "demo_series3.index=['A','B','C','D']\n",
        "print(demo_series3)"
      ],
      "execution_count": 28,
      "outputs": [
        {
          "output_type": "stream",
          "text": [
            "A    5\n",
            "B    6\n",
            "C    7\n",
            "D    8\n",
            "Name: numbers, dtype: int64\n"
          ],
          "name": "stdout"
        }
      ]
    }
  ]
}